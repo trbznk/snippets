{
 "cells": [
  {
   "cell_type": "markdown",
   "metadata": {},
   "source": [
    "# Tensorflow Base Template"
   ]
  },
  {
   "cell_type": "code",
   "execution_count": 1,
   "metadata": {},
   "outputs": [],
   "source": [
    "import matplotlib.pyplot as plt\n",
    "import tensorflow as tf"
   ]
  },
  {
   "cell_type": "markdown",
   "metadata": {},
   "source": [
    "### SAMPLE DATA"
   ]
  },
  {
   "cell_type": "code",
   "execution_count": 2,
   "metadata": {},
   "outputs": [
    {
     "name": "stdout",
     "output_type": "stream",
     "text": [
      "[[0.41484394 0.58127769 0.26956681 0.82177679 0.77153481 0.05644298]\n",
      " [0.9010685  0.37340044 0.99750411 0.59540178 0.33086306 0.78468117]\n",
      " [0.56634228 0.67038674 0.97418446 0.50580377 0.82545101 0.7521692 ]\n",
      " ...\n",
      " [0.18476658 0.4412313  0.11075006 0.01115178 0.91249964 0.15170191]\n",
      " [0.23666751 0.65484846 0.93425127 0.34542081 0.44801269 0.27121247]\n",
      " [0.06864369 0.06964571 0.76704467 0.95410107 0.86387377 0.71665298]]\n",
      "[0 1 0 0 0 0 1 1 0 0 1 0 1 0 0 1 1 1 1 0 1 1 1 1 1 0 1 1 0 1 0 0 1 1 1 0 1\n",
      " 0 0 0 0 1 1 0 1 0 0 1 0 1 0 1 0 0 1 0 1 0 0 0 0 1 0 0 0 0 0 1 0 0 1 0 1 0\n",
      " 0 1 1 1 0 1 1 0 1 1 1 1 1 1 0 0 0 1 1 1 1 0 0 1 1 0 0 0 0 1 1 0 1 0 1 0 0\n",
      " 0 0 1 0 0 1 1 0 1 0 0 0 0 0 0 1 1 0 1 1 1 1 0 1 1 1 0 1 0 1 0 1 1 1 1 1 0\n",
      " 1 0 0 0 1 1 1 0 1 1 0 1 1 1 1 0 1 0 0 0 0 1 0 1 0 0 1 1 0 1 1 0 1 0 0 1 1\n",
      " 1 1 0 1 0 1 0 0 0 0 1 0 1 0 0 1 1 0 0 0 1 0 0 0 1 1 0 0 0 1 0 0 0 1 0 1 1\n",
      " 1 1 1 1 1 0 0 1 0 0 0 1 1 1 1 0 0 1 0 1 0 0 0 1 1 1 0 0 0 0 0 1 1 1 0 1 0\n",
      " 0 1 0 0 0 1 1 0 0 1 0 1 0 1 1 1 0 0 1 0 0 0 1 1 0 1 0 0 1 0 0 1 1 1 1 1 1\n",
      " 1 1 0 0 1 1 1 1 1 0 0 1 0 0 1 0 1 0 1 1 0 1 0 0 1 0 1 0 1 0 1 0 1 1 1 1 1\n",
      " 0 0 1 0 0 0 1 1 0 0 1 1 0 0 0 0 0 1 1 1 1 0 0 0 0 1 1 0 0 0 0 0 1 0 0 0 1\n",
      " 0 0 1 0 0 0 1 1 1 1 0 1 1 0 1 0 1 0 0 0 0 0 0 1 0 1 0 0 0 1 1 1 1 1 1 1 1\n",
      " 0 1 1 1 1 0 0 0 1 0 0 0 0 1 0 0 0 0 1 0 1 1 0 1 1 1 1 0 1 1 0 0 0 0 0 0 0\n",
      " 1 0 1 0 0 0 1 0 0 0 1 1 1 0 1 0 0 0 0 0 0 0 1 1 0 1 0 1 0 1 1 1 1 1 1 0 1\n",
      " 1 1 1 0 0 1 0 1 0 0 1 0 0 1 1 0 1 1 1 1 0 0 1 0 0 0 1 0 0 0 1 1 1 1 1 1 0\n",
      " 0 1 0 1 1 1 1 1 0 0 0 0 1 1 1 1 1 1 0 0 1 1 1 0 1 1 1 1 0 1 0 0 1 0 1 0 1\n",
      " 1 1 1 1 0 0 1 1 1 1 1 1 0 1 1 0 0 1 0 1 1 1 1 1 1 1 0 0 1 1 0 1 1 0 0 0 0\n",
      " 0 1 0 1 0 0 1 1 1 0 0 1 0 1 1 1 1 0 1 1 1 0 1 1 1 0 1 1 0 0 0 0 0 1 0 0 0\n",
      " 0 0 0 0 1 1 1 0 0 1 0 0 0 0 1 0 0 1 1 1 0 0 0 1 0 1 0 1 0 1 0 1 1 1 1 1 1\n",
      " 0 0 0 0 1 1 0 0 0 1 0 1 1 0 0 1 1 1 0 1 1 1 1 1 0 1 0 0 1 1 1 1 0 1 0 1 0\n",
      " 0 1 0 0 0 0 1 1 0 1 0 0 0 1 1 0 0 1 1 0 0 0 0 0 0 1 1 1 1 0 1 1 0 0 1 1 0\n",
      " 0 0 1 1 0 0 1 1 0 0 1 1 0 1 1 1 0 1 1 0 1 1 0 1 0 0 1 0 0 0 0 1 1 0 0 1 1\n",
      " 1 0 1 1 0 1 1 0 0 1 1 0 1 0 0 0 1 0 0 0 0 1 1 1 1 0 1 0 1 1 0 1 1 0 0 0 0\n",
      " 1 0 0 0 1 0 1 0 1 1 0 0 1 0 0 1 0 1 0 0 0 0 1 1 0 0 1 0 1 0 1 1 1 0 0 0 1\n",
      " 1 1 1 1 0 1 0 1 0 1 0 1 1 1 1 1 0 1 1 1 0 1 1 1 1 0 1 0 0 1 1 1 1 1 0 1 0\n",
      " 1 1 1 0 0 0 1 1 0 1 0 1 1 0 0 0 0 1 0 1 0 0 1 0 1 1 0 1 1 0 0 1 1 1 1 0 1\n",
      " 1 0 1 1 0 0 0 1 0 0 0 0 0 0 0 0 0 1 0 0 1 1 1 0 1 1 0 0 1 1 1 1 1 1 1 1 1\n",
      " 0 0 1 0 1 0 0 1 0 1 1 0 0 0 0 0 1 1 1 1 0 1 1 0 1 1 1 1 0 1 1 0 1 0 1 0 1\n",
      " 0]\n",
      "(600, 6) (600,)\n",
      "(200, 6) (200,)\n",
      "(200, 6) (200,)\n"
     ]
    }
   ],
   "source": [
    "import numpy as np\n",
    "\n",
    "x, y = np.random.rand(1000, 6), np.random.rand(1000).round().astype(int)\n",
    "train_idx = np.arange(600)\n",
    "dev_idx = np.arange(600, 800)\n",
    "test_idx = np.arange(800, 1000)\n",
    "x_train, y_train = x[train_idx], y[train_idx]\n",
    "x_dev, y_dev = x[dev_idx], y[dev_idx]\n",
    "x_test, y_test = x[test_idx], y[test_idx]\n",
    "print(x)\n",
    "print(y)\n",
    "print(x_train.shape, y_train.shape)\n",
    "print(x_dev.shape, y_dev.shape)\n",
    "print(x_test.shape, y_test.shape)"
   ]
  },
  {
   "cell_type": "markdown",
   "metadata": {},
   "source": [
    "### MODEL"
   ]
  },
  {
   "cell_type": "code",
   "execution_count": 3,
   "metadata": {},
   "outputs": [],
   "source": [
    "model = tf.keras.Sequential([\n",
    "    tf.keras.layers.Dense(5, activation=\"relu\"),\n",
    "    tf.keras.layers.BatchNormalization(),\n",
    "    tf.keras.layers.Dropout(0),\n",
    "    tf.keras.layers.Dense(32, activation='relu'),\n",
    "    tf.keras.layers.BatchNormalization(),\n",
    "    tf.keras.layers.Dropout(0),\n",
    "    tf.keras.layers.Dense(1, activation=\"sigmoid\")\n",
    "])\n",
    "\n",
    "model.compile(optimizer='adam', loss=\"binary_crossentropy\", metrics=['accuracy'])"
   ]
  },
  {
   "cell_type": "markdown",
   "metadata": {},
   "source": [
    "### TRAINING"
   ]
  },
  {
   "cell_type": "code",
   "execution_count": 4,
   "metadata": {},
   "outputs": [
    {
     "name": "stdout",
     "output_type": "stream",
     "text": [
      "Epoch 1/10\n",
      "19/19 [==============================] - 1s 38ms/step - loss: 0.7964 - accuracy: 0.4694 - val_loss: 0.6963 - val_accuracy: 0.4950\n",
      "Epoch 2/10\n",
      "19/19 [==============================] - 0s 3ms/step - loss: 0.7447 - accuracy: 0.4549 - val_loss: 0.6934 - val_accuracy: 0.4900\n",
      "Epoch 3/10\n",
      "19/19 [==============================] - 0s 3ms/step - loss: 0.7386 - accuracy: 0.4817 - val_loss: 0.6930 - val_accuracy: 0.5150\n",
      "Epoch 4/10\n",
      "19/19 [==============================] - 0s 3ms/step - loss: 0.7025 - accuracy: 0.5055 - val_loss: 0.6927 - val_accuracy: 0.4700\n",
      "Epoch 5/10\n",
      "19/19 [==============================] - 0s 3ms/step - loss: 0.7007 - accuracy: 0.5010 - val_loss: 0.6923 - val_accuracy: 0.4950\n",
      "Epoch 6/10\n",
      "19/19 [==============================] - 0s 3ms/step - loss: 0.7022 - accuracy: 0.5092 - val_loss: 0.6920 - val_accuracy: 0.5550\n",
      "Epoch 7/10\n",
      "19/19 [==============================] - 0s 3ms/step - loss: 0.6996 - accuracy: 0.4920 - val_loss: 0.6914 - val_accuracy: 0.5550\n",
      "Epoch 8/10\n",
      "19/19 [==============================] - 0s 3ms/step - loss: 0.6969 - accuracy: 0.5331 - val_loss: 0.6912 - val_accuracy: 0.5500\n",
      "Epoch 9/10\n",
      "19/19 [==============================] - 0s 3ms/step - loss: 0.6903 - accuracy: 0.5076 - val_loss: 0.6904 - val_accuracy: 0.5700\n",
      "Epoch 10/10\n",
      "19/19 [==============================] - 0s 3ms/step - loss: 0.6896 - accuracy: 0.5509 - val_loss: 0.6916 - val_accuracy: 0.5500\n"
     ]
    },
    {
     "data": {
      "text/plain": [
       "<tensorflow.python.keras.callbacks.History at 0x14da1e490>"
      ]
     },
     "execution_count": 4,
     "metadata": {},
     "output_type": "execute_result"
    }
   ],
   "source": [
    "model.fit(x_train, y_train, epochs=10, validation_data=(x_dev, y_dev))"
   ]
  }
 ],
 "metadata": {
  "kernelspec": {
   "display_name": "Python 3",
   "language": "python",
   "name": "python3"
  },
  "language_info": {
   "codemirror_mode": {
    "name": "ipython",
    "version": 3
   },
   "file_extension": ".py",
   "mimetype": "text/x-python",
   "name": "python",
   "nbconvert_exporter": "python",
   "pygments_lexer": "ipython3",
   "version": "3.8.12"
  }
 },
 "nbformat": 4,
 "nbformat_minor": 4
}
