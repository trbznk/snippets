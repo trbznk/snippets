{
 "cells": [
  {
   "cell_type": "markdown",
   "metadata": {},
   "source": [
    "# Einfache Analyse von deutschen Schlagzeilen\n",
    "\n",
    "Die Daten für dieses Projekt wurde selbst gesammelt und bilden jeweils den Zeitpunkt und den Text einer Schlagzeile da. Der Zeitraum erstreckt sich über einen Tag."
   ]
  },
  {
   "cell_type": "markdown",
   "metadata": {},
   "source": [
    "### MODULE"
   ]
  },
  {
   "cell_type": "code",
   "execution_count": 43,
   "metadata": {},
   "outputs": [],
   "source": [
    "import pandas as pd\n",
    "import spacy\n",
    "import json\n",
    "import numpy as np\n",
    "import matplotlib.pyplot as plt\n",
    "\n",
    "from spacy_sentiws import spaCySentiWS\n",
    "from gensim.models import Word2Vec\n",
    "from sklearn.decomposition import PCA\n",
    "from collections import Counter"
   ]
  },
  {
   "cell_type": "markdown",
   "metadata": {},
   "source": [
    "### VOREINSTELLUNGEN\n",
    "\n",
    "- Laden einer Liste mit 620 deutschen *Stopwords*\n",
    "- Ausgabe Erweiterung für `pandas.DataFrame`s in *Jupyter Notebooks*"
   ]
  },
  {
   "cell_type": "code",
   "execution_count": 2,
   "metadata": {},
   "outputs": [],
   "source": [
    "with open(\"stopwords-de.json\") as f:\n",
    "    STOPWORDS = json.load(f)\n",
    "\n",
    "pd.set_option('display.max_colwidth', None)"
   ]
  },
  {
   "cell_type": "markdown",
   "metadata": {},
   "source": [
    "### EINLESEN\n",
    "\n",
    "Beim Einlesen der `csv` Datei nutzen wir die Parameter\n",
    "- `index_col` damit die Spalte `datetime` als Index gesetzt wird\n",
    "- `parse_dates` um Zeiten in ein `Datetime` Datentyp umzuwandeln"
   ]
  },
  {
   "cell_type": "code",
   "execution_count": 3,
   "metadata": {},
   "outputs": [
    {
     "data": {
      "text/html": [
       "<div>\n",
       "<style scoped>\n",
       "    .dataframe tbody tr th:only-of-type {\n",
       "        vertical-align: middle;\n",
       "    }\n",
       "\n",
       "    .dataframe tbody tr th {\n",
       "        vertical-align: top;\n",
       "    }\n",
       "\n",
       "    .dataframe thead th {\n",
       "        text-align: right;\n",
       "    }\n",
       "</style>\n",
       "<table border=\"1\" class=\"dataframe\">\n",
       "  <thead>\n",
       "    <tr style=\"text-align: right;\">\n",
       "      <th></th>\n",
       "      <th>text</th>\n",
       "    </tr>\n",
       "    <tr>\n",
       "      <th>datetime</th>\n",
       "      <th></th>\n",
       "    </tr>\n",
       "  </thead>\n",
       "  <tbody>\n",
       "    <tr>\n",
       "      <th>2020-10-05 21:00:02</th>\n",
       "      <td>nach US-Open-Skandal - Djokovic trifft schon wieder den Linienrichter!</td>\n",
       "    </tr>\n",
       "    <tr>\n",
       "      <th>2020-10-05 16:25:08</th>\n",
       "      <td>Angriff vor Hamburger Synagoge: Tatverdächtiger kommt in Psychatrie</td>\n",
       "    </tr>\n",
       "    <tr>\n",
       "      <th>2020-10-05 11:10:01</th>\n",
       "      <td>Staatskapelle Dresden im ZDF-Silvesterkonzert</td>\n",
       "    </tr>\n",
       "    <tr>\n",
       "      <th>2020-10-05 17:00:04</th>\n",
       "      <td>Was gilt für Reisen aus Risikogebieten in den Herbstferien?</td>\n",
       "    </tr>\n",
       "    <tr>\n",
       "      <th>2020-10-05 04:30:02</th>\n",
       "      <td>Nächste Lewandowski-Gala: \"Absoluter Torjäger\"</td>\n",
       "    </tr>\n",
       "    <tr>\n",
       "      <th>...</th>\n",
       "      <td>...</td>\n",
       "    </tr>\n",
       "    <tr>\n",
       "      <th>2020-10-05 19:55:02</th>\n",
       "      <td>In Markt Schwaben: Kommunalunternehmen legt Bilanzen offen</td>\n",
       "    </tr>\n",
       "    <tr>\n",
       "      <th>2020-10-05 12:55:02</th>\n",
       "      <td>Schadenfreude - das ist Deutsch für Weltbürger</td>\n",
       "    </tr>\n",
       "    <tr>\n",
       "      <th>2020-10-05 11:10:01</th>\n",
       "      <td>Straußenfleisch ist hierzulande bislang eher wenig gefragt</td>\n",
       "    </tr>\n",
       "    <tr>\n",
       "      <th>2020-10-05 07:55:01</th>\n",
       "      <td>Umfrage: 58 Prozent der jungen Frauen erleben Onlinegewalt</td>\n",
       "    </tr>\n",
       "    <tr>\n",
       "      <th>2020-10-05 06:45:02</th>\n",
       "      <td>Bayern-Transfer Marc Roca: Gemessen am Potential ein Schnäppchen</td>\n",
       "    </tr>\n",
       "  </tbody>\n",
       "</table>\n",
       "<p>1739 rows × 1 columns</p>\n",
       "</div>"
      ],
      "text/plain": [
       "                                                                                       text\n",
       "datetime                                                                                   \n",
       "2020-10-05 21:00:02  nach US-Open-Skandal - Djokovic trifft schon wieder den Linienrichter!\n",
       "2020-10-05 16:25:08     Angriff vor Hamburger Synagoge: Tatverdächtiger kommt in Psychatrie\n",
       "2020-10-05 11:10:01                           Staatskapelle Dresden im ZDF-Silvesterkonzert\n",
       "2020-10-05 17:00:04             Was gilt für Reisen aus Risikogebieten in den Herbstferien?\n",
       "2020-10-05 04:30:02                          Nächste Lewandowski-Gala: \"Absoluter Torjäger\"\n",
       "...                                                                                     ...\n",
       "2020-10-05 19:55:02              In Markt Schwaben: Kommunalunternehmen legt Bilanzen offen\n",
       "2020-10-05 12:55:02                          Schadenfreude - das ist Deutsch für Weltbürger\n",
       "2020-10-05 11:10:01              Straußenfleisch ist hierzulande bislang eher wenig gefragt\n",
       "2020-10-05 07:55:01              Umfrage: 58 Prozent der jungen Frauen erleben Onlinegewalt\n",
       "2020-10-05 06:45:02        Bayern-Transfer Marc Roca: Gemessen am Potential ein Schnäppchen\n",
       "\n",
       "[1739 rows x 1 columns]"
      ]
     },
     "execution_count": 3,
     "metadata": {},
     "output_type": "execute_result"
    }
   ],
   "source": [
    "df = pd.read_csv(\"schlagzeilen.csv\", index_col=\"datetime\", parse_dates=True)\n",
    "df"
   ]
  },
  {
   "cell_type": "markdown",
   "metadata": {},
   "source": [
    "Überprüfen ob\n",
    "- der Index vom Typ `DatetimeIndex` ist\n",
    "- ob wir fehlende Werte in der Spalte `text` haben"
   ]
  },
  {
   "cell_type": "code",
   "execution_count": 4,
   "metadata": {},
   "outputs": [
    {
     "name": "stdout",
     "output_type": "stream",
     "text": [
      "<class 'pandas.core.frame.DataFrame'>\n",
      "DatetimeIndex: 1739 entries, 2020-10-05 21:00:02 to 2020-10-05 06:45:02\n",
      "Data columns (total 1 columns):\n",
      " #   Column  Non-Null Count  Dtype \n",
      "---  ------  --------------  ----- \n",
      " 0   text    1739 non-null   object\n",
      "dtypes: object(1)\n",
      "memory usage: 27.2+ KB\n"
     ]
    }
   ],
   "source": [
    "df.info()"
   ]
  },
  {
   "cell_type": "markdown",
   "metadata": {},
   "source": [
    "Daten aufsteigend nach den Zeiten im Index sortieren"
   ]
  },
  {
   "cell_type": "code",
   "execution_count": 5,
   "metadata": {},
   "outputs": [
    {
     "data": {
      "text/html": [
       "<div>\n",
       "<style scoped>\n",
       "    .dataframe tbody tr th:only-of-type {\n",
       "        vertical-align: middle;\n",
       "    }\n",
       "\n",
       "    .dataframe tbody tr th {\n",
       "        vertical-align: top;\n",
       "    }\n",
       "\n",
       "    .dataframe thead th {\n",
       "        text-align: right;\n",
       "    }\n",
       "</style>\n",
       "<table border=\"1\" class=\"dataframe\">\n",
       "  <thead>\n",
       "    <tr style=\"text-align: right;\">\n",
       "      <th></th>\n",
       "      <th>text</th>\n",
       "    </tr>\n",
       "    <tr>\n",
       "      <th>datetime</th>\n",
       "      <th></th>\n",
       "    </tr>\n",
       "  </thead>\n",
       "  <tbody>\n",
       "    <tr>\n",
       "      <th>2020-10-05 00:00:02</th>\n",
       "      <td>Bundestrainer startet Vorbereitung: Länderspiel-Dreierpack</td>\n",
       "    </tr>\n",
       "    <tr>\n",
       "      <th>2020-10-05 00:05:02</th>\n",
       "      <td>\"Anne Will\" zur Corona-Infektion des US-Präsidenten : Der Trump-Unterstützer - das seltsame, exotische Tierchen</td>\n",
       "    </tr>\n",
       "    <tr>\n",
       "      <th>2020-10-05 00:05:03</th>\n",
       "      <td>Modeschöpfer Kenzo an Covid-19 gestorben</td>\n",
       "    </tr>\n",
       "    <tr>\n",
       "      <th>2020-10-05 00:10:02</th>\n",
       "      <td>Wegen Corona-Krise: Weltbankchef fordert wegen Schuldenerlass für ärmste Länder</td>\n",
       "    </tr>\n",
       "    <tr>\n",
       "      <th>2020-10-05 00:15:01</th>\n",
       "      <td>FC Nürnberg empfängt SV Darmstadt im Zweitliga-Montagsspiel</td>\n",
       "    </tr>\n",
       "    <tr>\n",
       "      <th>...</th>\n",
       "      <td>...</td>\n",
       "    </tr>\n",
       "    <tr>\n",
       "      <th>2020-10-05 23:35:02</th>\n",
       "      <td>Software-Entwickler McAfee in Spanien verhaftet</td>\n",
       "    </tr>\n",
       "    <tr>\n",
       "      <th>2020-10-05 23:40:01</th>\n",
       "      <td>Minister und Kammern informieren über Grippeschutzimpfung</td>\n",
       "    </tr>\n",
       "    <tr>\n",
       "      <th>2020-10-05 23:45:02</th>\n",
       "      <td>Trump zurück im Weißen Haus</td>\n",
       "    </tr>\n",
       "    <tr>\n",
       "      <th>2020-10-05 23:45:03</th>\n",
       "      <td>&amp;quot;Die Höhle der Löwen&amp;quot;: Diese Deals sind direkt nach der Sendung wieder geplatzt</td>\n",
       "    </tr>\n",
       "    <tr>\n",
       "      <th>2020-10-05 23:50:01</th>\n",
       "      <td>Senat diskutiert über Kita-Plätze und Corona-Maßnahmen</td>\n",
       "    </tr>\n",
       "  </tbody>\n",
       "</table>\n",
       "<p>1739 rows × 1 columns</p>\n",
       "</div>"
      ],
      "text/plain": [
       "                                                                                                                                text\n",
       "datetime                                                                                                                            \n",
       "2020-10-05 00:00:02                                                       Bundestrainer startet Vorbereitung: Länderspiel-Dreierpack\n",
       "2020-10-05 00:05:02  \"Anne Will\" zur Corona-Infektion des US-Präsidenten : Der Trump-Unterstützer - das seltsame, exotische Tierchen\n",
       "2020-10-05 00:05:03                                                                         Modeschöpfer Kenzo an Covid-19 gestorben\n",
       "2020-10-05 00:10:02                                  Wegen Corona-Krise: Weltbankchef fordert wegen Schuldenerlass für ärmste Länder\n",
       "2020-10-05 00:15:01                                                      FC Nürnberg empfängt SV Darmstadt im Zweitliga-Montagsspiel\n",
       "...                                                                                                                              ...\n",
       "2020-10-05 23:35:02                                                                  Software-Entwickler McAfee in Spanien verhaftet\n",
       "2020-10-05 23:40:01                                                        Minister und Kammern informieren über Grippeschutzimpfung\n",
       "2020-10-05 23:45:02                                                                                      Trump zurück im Weißen Haus\n",
       "2020-10-05 23:45:03                        &quot;Die Höhle der Löwen&quot;: Diese Deals sind direkt nach der Sendung wieder geplatzt\n",
       "2020-10-05 23:50:01                                                           Senat diskutiert über Kita-Plätze und Corona-Maßnahmen\n",
       "\n",
       "[1739 rows x 1 columns]"
      ]
     },
     "execution_count": 5,
     "metadata": {},
     "output_type": "execute_result"
    }
   ],
   "source": [
    "df = df.sort_index()\n",
    "df"
   ]
  },
  {
   "cell_type": "markdown",
   "metadata": {},
   "source": [
    "### SPACY PIPELINE"
   ]
  },
  {
   "cell_type": "markdown",
   "metadata": {},
   "source": [
    "Deutschen Sprachkorpus laden"
   ]
  },
  {
   "cell_type": "code",
   "execution_count": 6,
   "metadata": {},
   "outputs": [],
   "source": [
    "nlp = spacy.load(\"de_core_news_lg\")"
   ]
  },
  {
   "cell_type": "markdown",
   "metadata": {},
   "source": [
    "Damit *stopwords* erkannt werden laden wir den `SentiWS_v2` der Universität Leipzig"
   ]
  },
  {
   "cell_type": "code",
   "execution_count": 7,
   "metadata": {},
   "outputs": [],
   "source": [
    "for w in STOPWORDS:\n",
    "    nlp.vocab[w].is_stop = True\n",
    "sentiws = spaCySentiWS(sentiws_path=\"SentiWS_v2\")\n",
    "nlp.add_pipe(sentiws)"
   ]
  },
  {
   "cell_type": "markdown",
   "metadata": {},
   "source": [
    "Text wird jetzt durch die komplette *pipeline* geladen und ist dannach vorbereitet"
   ]
  },
  {
   "cell_type": "code",
   "execution_count": 8,
   "metadata": {},
   "outputs": [
    {
     "data": {
      "text/plain": [
       "[('tagger', <spacy.pipeline.pipes.Tagger at 0x12d5b8b80>),\n",
       " ('parser', <spacy.pipeline.pipes.DependencyParser at 0x12d5ab280>),\n",
       " ('ner', <spacy.pipeline.pipes.EntityRecognizer at 0x12d5ab220>),\n",
       " ('spaCySentiWS', <spacy_sentiws.spaCySentiWS at 0x1366e06a0>)]"
      ]
     },
     "execution_count": 8,
     "metadata": {},
     "output_type": "execute_result"
    }
   ],
   "source": [
    "df[\"text\"] = list(nlp.pipe(df[\"text\"].to_list()))\n",
    "nlp.pipeline"
   ]
  },
  {
   "cell_type": "markdown",
   "metadata": {},
   "source": [
    "### PREPROCESSING\n",
    "\n",
    "1. Stopwörter entfernen\n",
    "2. Satzzeichen und Ähnliches entfernen\n",
    "3. *+* entfernen\n",
    "4. Zahlen entfernen\n",
    "5. Bezeichnungen für Zahlen entfernen\n",
    "6. Zusätzliche *whitespaces* entfernen\n",
    "7. Lemma (Grundform) bilden\n",
    "8. in Kleinbuchstaben umwandeln"
   ]
  },
  {
   "cell_type": "code",
   "execution_count": 9,
   "metadata": {},
   "outputs": [
    {
     "data": {
      "text/html": [
       "<div>\n",
       "<style scoped>\n",
       "    .dataframe tbody tr th:only-of-type {\n",
       "        vertical-align: middle;\n",
       "    }\n",
       "\n",
       "    .dataframe tbody tr th {\n",
       "        vertical-align: top;\n",
       "    }\n",
       "\n",
       "    .dataframe thead th {\n",
       "        text-align: right;\n",
       "    }\n",
       "</style>\n",
       "<table border=\"1\" class=\"dataframe\">\n",
       "  <thead>\n",
       "    <tr style=\"text-align: right;\">\n",
       "      <th></th>\n",
       "      <th>text</th>\n",
       "      <th>preprocessed</th>\n",
       "    </tr>\n",
       "    <tr>\n",
       "      <th>datetime</th>\n",
       "      <th></th>\n",
       "      <th></th>\n",
       "    </tr>\n",
       "  </thead>\n",
       "  <tbody>\n",
       "    <tr>\n",
       "      <th>2020-10-05 00:00:02</th>\n",
       "      <td>(Bundestrainer, startet, Vorbereitung, :, Länderspiel-Dreierpack)</td>\n",
       "      <td>[bundestrainer, starten, vorbereitung, länderspiel-dreierpack]</td>\n",
       "    </tr>\n",
       "    <tr>\n",
       "      <th>2020-10-05 00:05:02</th>\n",
       "      <td>(\", Anne, Will, \", zur, Corona-Infektion, des, US-Präsidenten,  , :, Der, Trump-Unterstützer, -, das, seltsame, ,, exotische, Tierchen)</td>\n",
       "      <td>[anne, corona-infektion, us-präsidenten, trump-unterstützer, seltsam, exotische, tierchen]</td>\n",
       "    </tr>\n",
       "    <tr>\n",
       "      <th>2020-10-05 00:05:03</th>\n",
       "      <td>(Modeschöpfer, Kenzo, an, Covid-19, gestorben)</td>\n",
       "      <td>[modeschöpfer, kenzo, covid-19, sterben]</td>\n",
       "    </tr>\n",
       "    <tr>\n",
       "      <th>2020-10-05 00:10:02</th>\n",
       "      <td>(Wegen, Corona-Krise, :, Weltbankchef, fordert, wegen, Schuldenerlass, für, ärmste, Länder)</td>\n",
       "      <td>[corona-krise, weltbankchef, fordern, schuldenerlass, arm, land]</td>\n",
       "    </tr>\n",
       "    <tr>\n",
       "      <th>2020-10-05 00:15:01</th>\n",
       "      <td>(FC, Nürnberg, empfängt, SV, Darmstadt, im, Zweitliga-Montagsspiel)</td>\n",
       "      <td>[fc, nürnberg, empfangen, sv, darmstadt, zweitliga-montagsspiel]</td>\n",
       "    </tr>\n",
       "    <tr>\n",
       "      <th>...</th>\n",
       "      <td>...</td>\n",
       "      <td>...</td>\n",
       "    </tr>\n",
       "    <tr>\n",
       "      <th>2020-10-05 23:35:02</th>\n",
       "      <td>(Software-Entwickler, McAfee, in, Spanien, verhaftet)</td>\n",
       "      <td>[software-entwickler, mcafee, spanien, verhaften]</td>\n",
       "    </tr>\n",
       "    <tr>\n",
       "      <th>2020-10-05 23:40:01</th>\n",
       "      <td>(Minister, und, Kammern, informieren, über, Grippeschutzimpfung)</td>\n",
       "      <td>[minister, kammer, informieren, grippeschutzimpfung]</td>\n",
       "    </tr>\n",
       "    <tr>\n",
       "      <th>2020-10-05 23:45:02</th>\n",
       "      <td>(Trump, zurück, im, Weißen, Haus)</td>\n",
       "      <td>[trump, weiße, haus]</td>\n",
       "    </tr>\n",
       "    <tr>\n",
       "      <th>2020-10-05 23:45:03</th>\n",
       "      <td>(&amp;, quot;Die, Höhle, der, Löwen&amp;quot, ;, :, Diese, Deals, sind, direkt, nach, der, Sendung, wieder, geplatzt)</td>\n",
       "      <td>[quot;die, höhle, löwen&amp;quot, deal, direkt, sendung, platzen]</td>\n",
       "    </tr>\n",
       "    <tr>\n",
       "      <th>2020-10-05 23:50:01</th>\n",
       "      <td>(Senat, diskutiert, über, Kita-Plätze, und, Corona-Maßnahmen)</td>\n",
       "      <td>[senat, diskutieren, kita-plätze, corona-maßnahmen]</td>\n",
       "    </tr>\n",
       "  </tbody>\n",
       "</table>\n",
       "<p>1739 rows × 2 columns</p>\n",
       "</div>"
      ],
      "text/plain": [
       "                                                                                                                                                        text  \\\n",
       "datetime                                                                                                                                                       \n",
       "2020-10-05 00:00:02                                                                        (Bundestrainer, startet, Vorbereitung, :, Länderspiel-Dreierpack)   \n",
       "2020-10-05 00:05:02  (\", Anne, Will, \", zur, Corona-Infektion, des, US-Präsidenten,  , :, Der, Trump-Unterstützer, -, das, seltsame, ,, exotische, Tierchen)   \n",
       "2020-10-05 00:05:03                                                                                           (Modeschöpfer, Kenzo, an, Covid-19, gestorben)   \n",
       "2020-10-05 00:10:02                                              (Wegen, Corona-Krise, :, Weltbankchef, fordert, wegen, Schuldenerlass, für, ärmste, Länder)   \n",
       "2020-10-05 00:15:01                                                                      (FC, Nürnberg, empfängt, SV, Darmstadt, im, Zweitliga-Montagsspiel)   \n",
       "...                                                                                                                                                      ...   \n",
       "2020-10-05 23:35:02                                                                                    (Software-Entwickler, McAfee, in, Spanien, verhaftet)   \n",
       "2020-10-05 23:40:01                                                                         (Minister, und, Kammern, informieren, über, Grippeschutzimpfung)   \n",
       "2020-10-05 23:45:02                                                                                                        (Trump, zurück, im, Weißen, Haus)   \n",
       "2020-10-05 23:45:03                            (&, quot;Die, Höhle, der, Löwen&quot, ;, :, Diese, Deals, sind, direkt, nach, der, Sendung, wieder, geplatzt)   \n",
       "2020-10-05 23:50:01                                                                            (Senat, diskutiert, über, Kita-Plätze, und, Corona-Maßnahmen)   \n",
       "\n",
       "                                                                                                   preprocessed  \n",
       "datetime                                                                                                         \n",
       "2020-10-05 00:00:02                              [bundestrainer, starten, vorbereitung, länderspiel-dreierpack]  \n",
       "2020-10-05 00:05:02  [anne, corona-infektion, us-präsidenten, trump-unterstützer, seltsam, exotische, tierchen]  \n",
       "2020-10-05 00:05:03                                                    [modeschöpfer, kenzo, covid-19, sterben]  \n",
       "2020-10-05 00:10:02                            [corona-krise, weltbankchef, fordern, schuldenerlass, arm, land]  \n",
       "2020-10-05 00:15:01                            [fc, nürnberg, empfangen, sv, darmstadt, zweitliga-montagsspiel]  \n",
       "...                                                                                                         ...  \n",
       "2020-10-05 23:35:02                                           [software-entwickler, mcafee, spanien, verhaften]  \n",
       "2020-10-05 23:40:01                                        [minister, kammer, informieren, grippeschutzimpfung]  \n",
       "2020-10-05 23:45:02                                                                        [trump, weiße, haus]  \n",
       "2020-10-05 23:45:03                               [quot;die, höhle, löwen&quot, deal, direkt, sendung, platzen]  \n",
       "2020-10-05 23:50:01                                         [senat, diskutieren, kita-plätze, corona-maßnahmen]  \n",
       "\n",
       "[1739 rows x 2 columns]"
      ]
     },
     "execution_count": 9,
     "metadata": {},
     "output_type": "execute_result"
    }
   ],
   "source": [
    "def clean(doc):\n",
    "    doc = [token for token in doc if not token.is_stop]\n",
    "    doc = [token for token in doc if not token.is_punct]\n",
    "    doc = [token for token in doc if not token.text == \"+\"]\n",
    "    doc = [token for token in doc if not token.is_digit]\n",
    "    doc = [token for token in doc if not token.like_num]\n",
    "    doc = [token for token in doc if not token.is_space]\n",
    "    doc = [token.lemma_ for token in doc]\n",
    "    doc = [w.lower() for w in doc]\n",
    "    return doc\n",
    "\n",
    "\n",
    "df[\"preprocessed\"] = df[\"text\"].apply(clean)\n",
    "df"
   ]
  },
  {
   "cell_type": "markdown",
   "metadata": {},
   "source": [
    "### ALLGEMEINE ERKENNTNISSE"
   ]
  },
  {
   "cell_type": "markdown",
   "metadata": {},
   "source": [
    "Wie viele Schlagzeilen haben wir in unserem Datensatz?"
   ]
  },
  {
   "cell_type": "code",
   "execution_count": 10,
   "metadata": {},
   "outputs": [
    {
     "data": {
      "text/plain": [
       "1739"
      ]
     },
     "execution_count": 10,
     "metadata": {},
     "output_type": "execute_result"
    }
   ],
   "source": [
    "df.shape[0]"
   ]
  },
  {
   "cell_type": "markdown",
   "metadata": {},
   "source": [
    "Welches ist die älteste Schlagzeile?"
   ]
  },
  {
   "cell_type": "code",
   "execution_count": 11,
   "metadata": {},
   "outputs": [
    {
     "data": {
      "text/html": [
       "<div>\n",
       "<style scoped>\n",
       "    .dataframe tbody tr th:only-of-type {\n",
       "        vertical-align: middle;\n",
       "    }\n",
       "\n",
       "    .dataframe tbody tr th {\n",
       "        vertical-align: top;\n",
       "    }\n",
       "\n",
       "    .dataframe thead th {\n",
       "        text-align: right;\n",
       "    }\n",
       "</style>\n",
       "<table border=\"1\" class=\"dataframe\">\n",
       "  <thead>\n",
       "    <tr style=\"text-align: right;\">\n",
       "      <th></th>\n",
       "      <th>text</th>\n",
       "      <th>preprocessed</th>\n",
       "    </tr>\n",
       "    <tr>\n",
       "      <th>datetime</th>\n",
       "      <th></th>\n",
       "      <th></th>\n",
       "    </tr>\n",
       "  </thead>\n",
       "  <tbody>\n",
       "    <tr>\n",
       "      <th>2020-10-05 00:00:02</th>\n",
       "      <td>(Bundestrainer, startet, Vorbereitung, :, Länderspiel-Dreierpack)</td>\n",
       "      <td>[bundestrainer, starten, vorbereitung, länderspiel-dreierpack]</td>\n",
       "    </tr>\n",
       "  </tbody>\n",
       "</table>\n",
       "</div>"
      ],
      "text/plain": [
       "                                                                                  text  \\\n",
       "datetime                                                                                 \n",
       "2020-10-05 00:00:02  (Bundestrainer, startet, Vorbereitung, :, Länderspiel-Dreierpack)   \n",
       "\n",
       "                                                                       preprocessed  \n",
       "datetime                                                                             \n",
       "2020-10-05 00:00:02  [bundestrainer, starten, vorbereitung, länderspiel-dreierpack]  "
      ]
     },
     "execution_count": 11,
     "metadata": {},
     "output_type": "execute_result"
    }
   ],
   "source": [
    "df.head(1)"
   ]
  },
  {
   "cell_type": "markdown",
   "metadata": {},
   "source": [
    "Welches ist die aktuellste Schlagzeile?"
   ]
  },
  {
   "cell_type": "code",
   "execution_count": 12,
   "metadata": {},
   "outputs": [
    {
     "data": {
      "text/html": [
       "<div>\n",
       "<style scoped>\n",
       "    .dataframe tbody tr th:only-of-type {\n",
       "        vertical-align: middle;\n",
       "    }\n",
       "\n",
       "    .dataframe tbody tr th {\n",
       "        vertical-align: top;\n",
       "    }\n",
       "\n",
       "    .dataframe thead th {\n",
       "        text-align: right;\n",
       "    }\n",
       "</style>\n",
       "<table border=\"1\" class=\"dataframe\">\n",
       "  <thead>\n",
       "    <tr style=\"text-align: right;\">\n",
       "      <th></th>\n",
       "      <th>text</th>\n",
       "      <th>preprocessed</th>\n",
       "    </tr>\n",
       "    <tr>\n",
       "      <th>datetime</th>\n",
       "      <th></th>\n",
       "      <th></th>\n",
       "    </tr>\n",
       "  </thead>\n",
       "  <tbody>\n",
       "    <tr>\n",
       "      <th>2020-10-05 23:50:01</th>\n",
       "      <td>(Senat, diskutiert, über, Kita-Plätze, und, Corona-Maßnahmen)</td>\n",
       "      <td>[senat, diskutieren, kita-plätze, corona-maßnahmen]</td>\n",
       "    </tr>\n",
       "  </tbody>\n",
       "</table>\n",
       "</div>"
      ],
      "text/plain": [
       "                                                                              text  \\\n",
       "datetime                                                                             \n",
       "2020-10-05 23:50:01  (Senat, diskutiert, über, Kita-Plätze, und, Corona-Maßnahmen)   \n",
       "\n",
       "                                                            preprocessed  \n",
       "datetime                                                                  \n",
       "2020-10-05 23:50:01  [senat, diskutieren, kita-plätze, corona-maßnahmen]  "
      ]
     },
     "execution_count": 12,
     "metadata": {},
     "output_type": "execute_result"
    }
   ],
   "source": [
    "df.tail(1)"
   ]
  },
  {
   "cell_type": "markdown",
   "metadata": {},
   "source": [
    "### SENTIMENT ANALYSE\n",
    "\n",
    "Bei der *Sentiment Analyse* wird jeden Wort ein Wert zwischen `-1` (sehr negativ) bis `+1` (sehr positiv) zugeordnet. Wenn man daraus das *Produkt* aus allen Wrötern eines Satzes bildet ist das Resultat der Sentiment."
   ]
  },
  {
   "cell_type": "code",
   "execution_count": 13,
   "metadata": {},
   "outputs": [
    {
     "data": {
      "text/html": [
       "<div>\n",
       "<style scoped>\n",
       "    .dataframe tbody tr th:only-of-type {\n",
       "        vertical-align: middle;\n",
       "    }\n",
       "\n",
       "    .dataframe tbody tr th {\n",
       "        vertical-align: top;\n",
       "    }\n",
       "\n",
       "    .dataframe thead th {\n",
       "        text-align: right;\n",
       "    }\n",
       "</style>\n",
       "<table border=\"1\" class=\"dataframe\">\n",
       "  <thead>\n",
       "    <tr style=\"text-align: right;\">\n",
       "      <th></th>\n",
       "      <th>text</th>\n",
       "      <th>sentiment</th>\n",
       "    </tr>\n",
       "    <tr>\n",
       "      <th>datetime</th>\n",
       "      <th></th>\n",
       "      <th></th>\n",
       "    </tr>\n",
       "  </thead>\n",
       "  <tbody>\n",
       "    <tr>\n",
       "      <th>2020-10-05 00:00:02</th>\n",
       "      <td>(Bundestrainer, startet, Vorbereitung, :, Länderspiel-Dreierpack)</td>\n",
       "      <td>0.004000</td>\n",
       "    </tr>\n",
       "    <tr>\n",
       "      <th>2020-10-05 00:05:02</th>\n",
       "      <td>(\", Anne, Will, \", zur, Corona-Infektion, des, US-Präsidenten,  , :, Der, Trump-Unterstützer, -, das, seltsame, ,, exotische, Tierchen)</td>\n",
       "      <td>-0.000933</td>\n",
       "    </tr>\n",
       "    <tr>\n",
       "      <th>2020-10-05 00:05:03</th>\n",
       "      <td>(Modeschöpfer, Kenzo, an, Covid-19, gestorben)</td>\n",
       "      <td>NaN</td>\n",
       "    </tr>\n",
       "    <tr>\n",
       "      <th>2020-10-05 00:10:02</th>\n",
       "      <td>(Wegen, Corona-Krise, :, Weltbankchef, fordert, wegen, Schuldenerlass, für, ärmste, Länder)</td>\n",
       "      <td>-0.454600</td>\n",
       "    </tr>\n",
       "    <tr>\n",
       "      <th>2020-10-05 00:15:01</th>\n",
       "      <td>(FC, Nürnberg, empfängt, SV, Darmstadt, im, Zweitliga-Montagsspiel)</td>\n",
       "      <td>NaN</td>\n",
       "    </tr>\n",
       "    <tr>\n",
       "      <th>...</th>\n",
       "      <td>...</td>\n",
       "      <td>...</td>\n",
       "    </tr>\n",
       "    <tr>\n",
       "      <th>2020-10-05 23:35:02</th>\n",
       "      <td>(Software-Entwickler, McAfee, in, Spanien, verhaftet)</td>\n",
       "      <td>NaN</td>\n",
       "    </tr>\n",
       "    <tr>\n",
       "      <th>2020-10-05 23:40:01</th>\n",
       "      <td>(Minister, und, Kammern, informieren, über, Grippeschutzimpfung)</td>\n",
       "      <td>NaN</td>\n",
       "    </tr>\n",
       "    <tr>\n",
       "      <th>2020-10-05 23:45:02</th>\n",
       "      <td>(Trump, zurück, im, Weißen, Haus)</td>\n",
       "      <td>NaN</td>\n",
       "    </tr>\n",
       "    <tr>\n",
       "      <th>2020-10-05 23:45:03</th>\n",
       "      <td>(&amp;, quot;Die, Höhle, der, Löwen&amp;quot, ;, :, Diese, Deals, sind, direkt, nach, der, Sendung, wieder, geplatzt)</td>\n",
       "      <td>NaN</td>\n",
       "    </tr>\n",
       "    <tr>\n",
       "      <th>2020-10-05 23:50:01</th>\n",
       "      <td>(Senat, diskutiert, über, Kita-Plätze, und, Corona-Maßnahmen)</td>\n",
       "      <td>NaN</td>\n",
       "    </tr>\n",
       "  </tbody>\n",
       "</table>\n",
       "<p>1739 rows × 2 columns</p>\n",
       "</div>"
      ],
      "text/plain": [
       "                                                                                                                                                        text  \\\n",
       "datetime                                                                                                                                                       \n",
       "2020-10-05 00:00:02                                                                        (Bundestrainer, startet, Vorbereitung, :, Länderspiel-Dreierpack)   \n",
       "2020-10-05 00:05:02  (\", Anne, Will, \", zur, Corona-Infektion, des, US-Präsidenten,  , :, Der, Trump-Unterstützer, -, das, seltsame, ,, exotische, Tierchen)   \n",
       "2020-10-05 00:05:03                                                                                           (Modeschöpfer, Kenzo, an, Covid-19, gestorben)   \n",
       "2020-10-05 00:10:02                                              (Wegen, Corona-Krise, :, Weltbankchef, fordert, wegen, Schuldenerlass, für, ärmste, Länder)   \n",
       "2020-10-05 00:15:01                                                                      (FC, Nürnberg, empfängt, SV, Darmstadt, im, Zweitliga-Montagsspiel)   \n",
       "...                                                                                                                                                      ...   \n",
       "2020-10-05 23:35:02                                                                                    (Software-Entwickler, McAfee, in, Spanien, verhaftet)   \n",
       "2020-10-05 23:40:01                                                                         (Minister, und, Kammern, informieren, über, Grippeschutzimpfung)   \n",
       "2020-10-05 23:45:02                                                                                                        (Trump, zurück, im, Weißen, Haus)   \n",
       "2020-10-05 23:45:03                            (&, quot;Die, Höhle, der, Löwen&quot, ;, :, Diese, Deals, sind, direkt, nach, der, Sendung, wieder, geplatzt)   \n",
       "2020-10-05 23:50:01                                                                            (Senat, diskutiert, über, Kita-Plätze, und, Corona-Maßnahmen)   \n",
       "\n",
       "                     sentiment  \n",
       "datetime                        \n",
       "2020-10-05 00:00:02   0.004000  \n",
       "2020-10-05 00:05:02  -0.000933  \n",
       "2020-10-05 00:05:03        NaN  \n",
       "2020-10-05 00:10:02  -0.454600  \n",
       "2020-10-05 00:15:01        NaN  \n",
       "...                        ...  \n",
       "2020-10-05 23:35:02        NaN  \n",
       "2020-10-05 23:40:01        NaN  \n",
       "2020-10-05 23:45:02        NaN  \n",
       "2020-10-05 23:45:03        NaN  \n",
       "2020-10-05 23:50:01        NaN  \n",
       "\n",
       "[1739 rows x 2 columns]"
      ]
     },
     "execution_count": 13,
     "metadata": {},
     "output_type": "execute_result"
    }
   ],
   "source": [
    "def compute_sentiment(doc):\n",
    "    sentiments = [token._.sentiws for token in doc if token._.sentiws]\n",
    "    if sentiments:\n",
    "        return np.prod(sentiments)\n",
    "    else:\n",
    "        return np.nan\n",
    "        \n",
    "\n",
    "df[\"sentiment\"] = df[\"text\"].apply(compute_sentiment)\n",
    "df[[\"text\", \"sentiment\"]]"
   ]
  },
  {
   "cell_type": "markdown",
   "metadata": {},
   "source": [
    "Wie ist der Durschnitts Sentiment?"
   ]
  },
  {
   "cell_type": "code",
   "execution_count": 14,
   "metadata": {},
   "outputs": [
    {
     "data": {
      "text/plain": [
       "-0.06362294324654838"
      ]
     },
     "execution_count": 14,
     "metadata": {},
     "output_type": "execute_result"
    }
   ],
   "source": [
    "df[\"sentiment\"].mean()"
   ]
  },
  {
   "cell_type": "markdown",
   "metadata": {},
   "source": [
    "Welches ist die negativste Schlagzeile?"
   ]
  },
  {
   "cell_type": "code",
   "execution_count": 15,
   "metadata": {},
   "outputs": [
    {
     "data": {
      "text/plain": [
       "datetime\n",
       "2020-10-05 11:30:02    Innensenator Grote: Antisemitische Gefahr \"allgegenwärtig\"\n",
       "Name: text, dtype: object"
      ]
     },
     "execution_count": 15,
     "metadata": {},
     "output_type": "execute_result"
    }
   ],
   "source": [
    "df.dropna().sort_values(\"sentiment\").head(1)[\"text\"].apply(str)"
   ]
  },
  {
   "cell_type": "markdown",
   "metadata": {},
   "source": [
    "Welches ist die positivste Schlagzeile?"
   ]
  },
  {
   "cell_type": "code",
   "execution_count": 16,
   "metadata": {},
   "outputs": [
    {
     "data": {
      "text/plain": [
       "datetime\n",
       "2020-10-05 05:30:02    Transfers perfekt! - Hertha holt dieses Duo – und Götze könnte folgen\n",
       "Name: text, dtype: object"
      ]
     },
     "execution_count": 16,
     "metadata": {},
     "output_type": "execute_result"
    }
   ],
   "source": [
    "df.dropna().sort_values(\"sentiment\", ascending=False).head(1)[\"text\"].apply(str)"
   ]
  },
  {
   "cell_type": "markdown",
   "metadata": {},
   "source": [
    "Wie hat sich der Sentiment über den Zeitraum in Stunden entwickelt?"
   ]
  },
  {
   "cell_type": "code",
   "execution_count": 17,
   "metadata": {},
   "outputs": [
    {
     "data": {
      "text/plain": [
       "<matplotlib.axes._subplots.AxesSubplot at 0x138b66ac0>"
      ]
     },
     "execution_count": 17,
     "metadata": {},
     "output_type": "execute_result"
    },
    {
     "data": {
      "image/png": "[encoded data removed]",
      "text/plain": [
       "<Figure size 1440x720 with 1 Axes>"
      ]
     },
     "metadata": {
      "needs_background": "light"
     },
     "output_type": "display_data"
    }
   ],
   "source": [
    "ax = df.groupby(df.index.round(\"H\")).mean().dropna().plot(figsize=(20, 10))\n",
    "ax.set_ylim(-1, 1)\n",
    "ax.axhline(0, color=\"black\", linewidth=0.5)\n",
    "ax"
   ]
  },
  {
   "cell_type": "markdown",
   "metadata": {},
   "source": [
    "Wieviele Tokens sind Durschnittlich in einer Schlagzeile"
   ]
  },
  {
   "cell_type": "code",
   "execution_count": 18,
   "metadata": {},
   "outputs": [
    {
     "data": {
      "text/plain": [
       "9"
      ]
     },
     "execution_count": 18,
     "metadata": {},
     "output_type": "execute_result"
    }
   ],
   "source": [
    "df[\"len_words\"] = df[\"text\"].apply(len)\n",
    "mean_len_words = int(df[\"len_words\"].mean())\n",
    "mean_len_words"
   ]
  },
  {
   "cell_type": "markdown",
   "metadata": {},
   "source": [
    "Wieviele Zeichen hat eine Schlagzeile im Durchschnitt?"
   ]
  },
  {
   "cell_type": "code",
   "execution_count": 19,
   "metadata": {},
   "outputs": [
    {
     "data": {
      "text/plain": [
       "61"
      ]
     },
     "execution_count": 19,
     "metadata": {},
     "output_type": "execute_result"
    }
   ],
   "source": [
    "df[\"len_chars\"] = df[\"text\"].apply(str).apply(len)\n",
    "mean_len_chars = int(df[\"len_chars\"].mean())\n",
    "mean_len_chars"
   ]
  },
  {
   "cell_type": "markdown",
   "metadata": {},
   "source": [
    "Welches ist die kürzeste Schlagzeile?"
   ]
  },
  {
   "cell_type": "code",
   "execution_count": 20,
   "metadata": {},
   "outputs": [
    {
     "data": {
      "text/plain": [
       "datetime\n",
       "2020-10-05 06:50:02    Googles Gaben\n",
       "Name: text, dtype: object"
      ]
     },
     "execution_count": 20,
     "metadata": {},
     "output_type": "execute_result"
    }
   ],
   "source": [
    "df.sort_values(\"len_chars\").head(1)[\"text\"].apply(str)"
   ]
  },
  {
   "cell_type": "markdown",
   "metadata": {},
   "source": [
    "Welches ist die längste Schlagzeile?"
   ]
  },
  {
   "cell_type": "code",
   "execution_count": 21,
   "metadata": {},
   "outputs": [
    {
     "data": {
      "text/plain": [
       "datetime\n",
       "2020-10-05 17:10:03    Feuilletons zerrisen seine Filme - &#034;Dann hab&#039; ich wenigstens was davon&#034;: Wie Til Schweiger von Kritik an seinen Filmen profitiert\n",
       "Name: text, dtype: object"
      ]
     },
     "execution_count": 21,
     "metadata": {},
     "output_type": "execute_result"
    }
   ],
   "source": [
    "df.sort_values(\"len_chars\", ascending=False).head(1)[\"text\"].apply(str)"
   ]
  },
  {
   "cell_type": "markdown",
   "metadata": {},
   "source": [
    "Gibt es eine Korrelation zwischen der Anzahl der Zeichen und Wörtern?\n",
    "\n",
    "Der Korrelationskoeffizient kann zwischen `-1` (starke positive Korrelation) und `+1` (starte negative Korrelation) liegen."
   ]
  },
  {
   "cell_type": "code",
   "execution_count": 22,
   "metadata": {},
   "outputs": [
    {
     "data": {
      "text/plain": [
       "0.825624524964878"
      ]
     },
     "execution_count": 22,
     "metadata": {},
     "output_type": "execute_result"
    }
   ],
   "source": [
    "df[\"len_chars\"].corr(df[\"len_words\"])"
   ]
  },
  {
   "cell_type": "markdown",
   "metadata": {},
   "source": [
    "Wie verteilt sich die Länge der Schlagzeilen über den gesamten Datensatz?\n",
    "\n",
    "Das lässt sich mit einem Histogramm am besten visualisieren."
   ]
  },
  {
   "cell_type": "code",
   "execution_count": 23,
   "metadata": {},
   "outputs": [
    {
     "data": {
      "text/plain": [
       "<matplotlib.axes._subplots.AxesSubplot at 0x13ad520d0>"
      ]
     },
     "execution_count": 23,
     "metadata": {},
     "output_type": "execute_result"
    },
    {
     "data": {
      "image/png": "[encoded data removed]",
      "text/plain": [
       "<Figure size 720x360 with 1 Axes>"
      ]
     },
     "metadata": {
      "needs_background": "light"
     },
     "output_type": "display_data"
    }
   ],
   "source": [
    "df[\"len_chars\"].hist(figsize=(10, 5), bins=40)"
   ]
  },
  {
   "cell_type": "markdown",
   "metadata": {},
   "source": [
    "### WÖRTER"
   ]
  },
  {
   "cell_type": "markdown",
   "metadata": {},
   "source": [
    "Welches sind die Top 20 vorkommenden Wörter?"
   ]
  },
  {
   "cell_type": "code",
   "execution_count": 40,
   "metadata": {},
   "outputs": [
    {
     "data": {
      "text/plain": [
       "<matplotlib.axes._subplots.AxesSubplot at 0x13b236e20>"
      ]
     },
     "execution_count": 40,
     "metadata": {},
     "output_type": "execute_result"
    },
    {
     "data": {
      "image/png": "[encoded data removed]",
      "text/plain": [
       "<Figure size 1440x720 with 1 Axes>"
      ]
     },
     "metadata": {
      "needs_background": "light"
     },
     "output_type": "display_data"
    }
   ],
   "source": [
    "words = [word for l in df[\"preprocessed\"].to_list() for word in l]\n",
    "c = Counter(words)\n",
    "top_words = pd.DataFrame.from_records(c.most_common()[:20], columns=[\"word\", \"amount\"], index=\"word\")\n",
    "top_words.sort_values(\"amount\").plot.barh(figsize=(20, 10))"
   ]
  },
  {
   "cell_type": "markdown",
   "metadata": {},
   "source": [
    "### WORD EMBEDDINGS UND PCA"
   ]
  },
  {
   "cell_type": "code",
   "execution_count": 105,
   "metadata": {},
   "outputs": [
    {
     "data": {
      "text/plain": [
       "<matplotlib.axes._subplots.AxesSubplot at 0x13d6aa940>"
      ]
     },
     "execution_count": 105,
     "metadata": {},
     "output_type": "execute_result"
    },
    {
     "data": {
      "image/png": "[encoded data removed]",
      "text/plain": [
       "<Figure size 1440x1440 with 1 Axes>"
      ]
     },
     "metadata": {
      "needs_background": "light"
     },
     "output_type": "display_data"
    }
   ],
   "source": [
    "model = Word2Vec(df[\"preprocessed\"].to_list(), max_final_vocab=50, workers=4)\n",
    "words = list(model.wv.vocab.keys())\n",
    "vectors = [model.wv[word] for word in words]\n",
    "pca = PCA(n_components=2)\n",
    "result = pca.fit_transform(vectors)\n",
    "X, Y = result.T\n",
    "\n",
    "fig, ax = plt.subplots(figsize=(20, 20))\n",
    "ax.scatter(X, Y)\n",
    "for i, word in enumerate(words):\n",
    "    ax.annotate(word, (X[i], Y[i]))\n",
    "ax"
   ]
  }
 ],
 "metadata": {
  "kernelspec": {
   "display_name": "Python 3",
   "language": "python",
   "name": "python3"
  },
  "language_info": {
   "codemirror_mode": {
    "name": "ipython",
    "version": 3
   },
   "file_extension": ".py",
   "mimetype": "text/x-python",
   "name": "python",
   "nbconvert_exporter": "python",
   "pygments_lexer": "ipython3",
   "version": "3.8.5"
  }
 },
 "nbformat": 4,
 "nbformat_minor": 4
}
